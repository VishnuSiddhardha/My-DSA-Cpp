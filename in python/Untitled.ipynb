{
 "cells": [
  {
   "cell_type": "code",
   "execution_count": 20,
   "id": "b052ee39-88d3-445e-b543-3d210441c2a4",
   "metadata": {},
   "outputs": [],
   "source": [
    "def printAllFun(lis):\n",
    "    l = len(lis)\n",
    "    temp = []\n",
    "    printAllSubSeqs(lis,[],l,0)\n",
    "\n",
    "def printAllSubSeqs(lis,tempLis,l,ind):\n",
    "    if ind == l:\n",
    "        print(tempLis)\n",
    "    else:\n",
    "        tempLis.append(lis[ind])\n",
    "        printAllSubSeqs(lis,tempLis,l,ind+1)\n",
    "        tempLis.pop()\n",
    "        printAllSubSeqs(lis,tempLis,l,ind+1)"
   ]
  },
  {
   "cell_type": "code",
   "execution_count": 21,
   "id": "776b4bd2-30bd-43bf-b52a-222f974e7f8d",
   "metadata": {},
   "outputs": [
    {
     "name": "stdin",
     "output_type": "stream",
     "text": [
      "Enter the items in the list:  1234\n"
     ]
    },
    {
     "name": "stdout",
     "output_type": "stream",
     "text": [
      "[1, 2, 3, 4]\n",
      "[1, 2, 3, 4]\n",
      "[1, 2, 3]\n",
      "[1, 2, 4]\n",
      "[1, 2]\n",
      "[1, 3, 4]\n",
      "[1, 3]\n",
      "[1, 4]\n",
      "[1]\n",
      "[2, 3, 4]\n",
      "[2, 3]\n",
      "[2, 4]\n",
      "[2]\n",
      "[3, 4]\n",
      "[3]\n",
      "[4]\n",
      "[]\n"
     ]
    }
   ],
   "source": [
    "s = list(map(int,input(\"Enter the items in the list: \")))\n",
    "print(s)\n",
    "printAllFun(s)"
   ]
  },
  {
   "cell_type": "code",
   "execution_count": null,
   "id": "a4ae8cfb-3de9-4ef2-9338-fb708389bca5",
   "metadata": {},
   "outputs": [],
   "source": []
  }
 ],
 "metadata": {
  "kernelspec": {
   "display_name": "Python 3 (ipykernel)",
   "language": "python",
   "name": "python3"
  },
  "language_info": {
   "codemirror_mode": {
    "name": "ipython",
    "version": 3
   },
   "file_extension": ".py",
   "mimetype": "text/x-python",
   "name": "python",
   "nbconvert_exporter": "python",
   "pygments_lexer": "ipython3",
   "version": "3.9.19"
  }
 },
 "nbformat": 4,
 "nbformat_minor": 5
}
